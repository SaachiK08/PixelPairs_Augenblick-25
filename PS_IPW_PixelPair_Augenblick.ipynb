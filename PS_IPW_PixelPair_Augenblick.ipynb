{
  "nbformat": 4,
  "nbformat_minor": 0,
  "metadata": {
    "colab": {
      "provenance": [],
      "include_colab_link": true
    },
    "kernelspec": {
      "name": "python3",
      "display_name": "Python 3"
    },
    "language_info": {
      "name": "python"
    }
  },
  "cells": [
    {
      "cell_type": "markdown",
      "metadata": {
        "id": "view-in-github",
        "colab_type": "text"
      },
      "source": [
        "<a href=\"https://colab.research.google.com/github/SaachiK08/PixelPairs_Augenblick-25/blob/main/PS_IPW_PixelPair_Augenblick.ipynb\" target=\"_parent\"><img src=\"https://colab.research.google.com/assets/colab-badge.svg\" alt=\"Open In Colab\"/></a>"
      ]
    },
    {
      "cell_type": "code",
      "execution_count": null,
      "metadata": {
        "id": "i95uItZv8JQM"
      },
      "outputs": [],
      "source": [
        "import pandas as pd\n",
        "import numpy as np\n",
        "import seaborn as sns\n",
        "import matplotlib.pyplot as plt\n",
        "from sklearn.linear_model import LogisticRegression\n",
        "from sklearn.ensemble import RandomForestRegressor\n",
        "from sklearn.model_selection import train_test_split\n",
        "from sklearn.metrics import mean_squared_error\n",
        "from scipy.stats import ttest_ind\n",
        "from statsmodels.stats.weightstats import CompareMeans"
      ]
    },
    {
      "cell_type": "code",
      "source": [
        "# Load dataset\n",
        "df = pd.read_csv(\"/content/ihdp_data.csv\")"
      ],
      "metadata": {
        "id": "tmFNTNsD8aGH"
      },
      "execution_count": null,
      "outputs": []
    },
    {
      "cell_type": "code",
      "source": [
        "# Step 1: Exploratory Data Analysis\n",
        "plt.figure(figsize=(6,4))\n",
        "sns.countplot(x='treatment', data=df)\n",
        "plt.title(\"Treatment Distribution\")\n",
        "plt.show()"
      ],
      "metadata": {
        "colab": {
          "base_uri": "https://localhost:8080/",
          "height": 410
        },
        "id": "BeIcjven9FBc",
        "outputId": "f00ac006-d0c4-415e-e741-a457869ccfeb"
      },
      "execution_count": null,
      "outputs": [
        {
          "output_type": "display_data",
          "data": {
            "text/plain": [
              "<Figure size 600x400 with 1 Axes>"
            ],
            "image/png": "[encoded data removed]"
          },
          "metadata": {}
        }
      ]
    },
    {
      "cell_type": "code",
      "source": [
        "# Step 2: Propensity Score Estimation\n",
        "X = df.drop(columns=['treatment', 'y_factual', 'y_cfactual', 'mu0', 'mu1'])\n",
        "y = df['treatment'].astype(int)\n",
        "\n",
        "propensity_model = LogisticRegression()\n",
        "propensity_model.fit(X, y)\n",
        "df['propensity_score'] = propensity_model.predict_proba(X)[:,1]"
      ],
      "metadata": {
        "id": "kIor3lDW9Hm5"
      },
      "execution_count": null,
      "outputs": []
    },
    {
      "cell_type": "code",
      "source": [
        "# Step 3: Inverse Probability Weighting (IPW)\n",
        "df['weight'] = np.where(df['treatment'] == 1, 1/df['propensity_score'], 1/(1-df['propensity_score']))"
      ],
      "metadata": {
        "id": "kULXJSPt9Kp1"
      },
      "execution_count": null,
      "outputs": []
    },
    {
      "cell_type": "code",
      "source": [
        "# Step 4: Estimating Treatment Effects\n",
        "ate = np.mean(df[df['treatment']==1]['y_factual']) - np.mean(df[df['treatment']==0]['y_factual'])\n",
        "print(f\"Average Treatment Effect (ATE): {ate:.4f}\")"
      ],
      "metadata": {
        "colab": {
          "base_uri": "https://localhost:8080/"
        },
        "id": "jGcu4TvW9OOS",
        "outputId": "680e250b-6550-412d-b867-560d1f8d86a7"
      },
      "execution_count": null,
      "outputs": [
        {
          "output_type": "stream",
          "name": "stdout",
          "text": [
            "Average Treatment Effect (ATE): 4.0211\n"
          ]
        }
      ]
    },
    {
      "cell_type": "code",
      "source": [
        "# Step 5: Causal Effect Estimation using ML\n",
        "X_train, X_test, y_train, y_test = train_test_split(X, df['y_factual'], test_size=0.2, random_state=42)\n",
        "model = RandomForestRegressor()\n",
        "model.fit(X_train, y_train)\n",
        "preds = model.predict(X_test)\n",
        "rmse = np.sqrt(mean_squared_error(y_test, preds))\n",
        "print(f\"Model RMSE: {rmse:.4f}\")"
      ],
      "metadata": {
        "colab": {
          "base_uri": "https://localhost:8080/"
        },
        "id": "1yI7X8819QVz",
        "outputId": "2100eba3-abca-4c87-bc15-4f81d60d666d"
      },
      "execution_count": null,
      "outputs": [
        {
          "output_type": "stream",
          "name": "stdout",
          "text": [
            "Model RMSE: 1.7910\n"
          ]
        }
      ]
    },
    {
      "cell_type": "code",
      "source": [
        "# Step 6: Hypothesis Testing\n",
        "t_stat, p_value = ttest_ind(df[df['treatment'] == 1]['y_factual'], df[df['treatment'] == 0]['y_factual'])\n",
        "print(f\"T-Test p-value: {p_value:.4f}\")"
      ],
      "metadata": {
        "colab": {
          "base_uri": "https://localhost:8080/"
        },
        "id": "cldEK9Gf9TH2",
        "outputId": "bb78c348-b628-45c2-ff27-143c6173cf3c"
      },
      "execution_count": null,
      "outputs": [
        {
          "output_type": "stream",
          "name": "stdout",
          "text": [
            "T-Test p-value: 0.0000\n"
          ]
        }
      ]
    },
    {
      "cell_type": "code",
      "source": [
        "# Step 7: Effect Size Calculation (Cohen's d)\n",
        "mean_treated = np.mean(df[df['treatment'] == 1]['y_factual'])\n",
        "mean_control = np.mean(df[df['treatment'] == 0]['y_factual'])\n",
        "std_pooled = np.sqrt((np.var(df[df['treatment'] == 1]['y_factual']) + np.var(df[df['treatment'] == 0]['y_factual'])) / 2)\n",
        "cohens_d = (mean_treated - mean_control) / std_pooled\n",
        "print(f\"Effect Size (Cohen's d): {cohens_d:.4f}\")"
      ],
      "metadata": {
        "colab": {
          "base_uri": "https://localhost:8080/"
        },
        "id": "JhUFcLUd9g8I",
        "outputId": "7073cefe-2869-4944-e993-d8ac9b036115"
      },
      "execution_count": null,
      "outputs": [
        {
          "output_type": "stream",
          "name": "stdout",
          "text": [
            "Effect Size (Cohen's d): 2.9312\n"
          ]
        }
      ]
    },
    {
      "cell_type": "code",
      "source": [
        "# Step 8: Bootstrapped Confidence Intervals for ATE\n",
        "def bootstrap_ci(data, n_bootstrap=1000, ci=95):\n",
        "    boot_ate = []\n",
        "    for _ in range(n_bootstrap):\n",
        "        sample = data.sample(frac=1, replace=True)\n",
        "        boot_ate.append(np.mean(sample[sample['treatment']==1]['y_factual']) - np.mean(sample[sample['treatment']==0]['y_factual']))\n",
        "    lower = np.percentile(boot_ate, (100 - ci) / 2)\n",
        "    upper = np.percentile(boot_ate, 100 - (100 - ci) / 2)\n",
        "    return lower, upper\n",
        "\n",
        "ci_lower, ci_upper = bootstrap_ci(df)\n",
        "print(f\"Bootstrapped 95% Confidence Interval for ATE: ({ci_lower:.4f}, {ci_upper:.4f})\")"
      ],
      "metadata": {
        "id": "M89_s8Tl-5Ai",
        "outputId": "b1dcd50c-2115-48de-c30e-45ad97e90e09",
        "colab": {
          "base_uri": "https://localhost:8080/"
        }
      },
      "execution_count": null,
      "outputs": [
        {
          "output_type": "stream",
          "name": "stdout",
          "text": [
            "Bootstrapped 95% Confidence Interval for ATE: (3.8101, 4.2492)\n"
          ]
        }
      ]
    },
    {
      "cell_type": "code",
      "source": [
        "# Step 9: Doubly Robust Estimator using Regression Adjustment\n",
        "from sklearn.linear_model import LinearRegression\n",
        "\n",
        "reg_model = LinearRegression()\n",
        "reg_model.fit(X, df['y_factual'])\n",
        "df['y_pred'] = reg_model.predict(X)\n",
        "dre_ate = np.mean(df[df['treatment'] == 1]['y_pred']) - np.mean(df[df['treatment'] == 0]['y_pred'])\n",
        "print(f\"Doubly Robust Estimated ATE: {dre_ate:.4f}\")"
      ],
      "metadata": {
        "id": "llZWlfwf-8PR",
        "outputId": "86c5e2b1-a1e7-4ce8-ecb6-b975a5ad99bd",
        "colab": {
          "base_uri": "https://localhost:8080/"
        }
      },
      "execution_count": null,
      "outputs": [
        {
          "output_type": "stream",
          "name": "stdout",
          "text": [
            "Doubly Robust Estimated ATE: 0.5314\n"
          ]
        }
      ]
    },
    {
      "cell_type": "code",
      "source": [],
      "metadata": {
        "id": "WFK-QQ2w-_pC"
      },
      "execution_count": null,
      "outputs": []
    }
  ]
}